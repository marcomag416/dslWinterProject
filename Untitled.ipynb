{
 "cells": [
  {
   "cell_type": "code",
   "execution_count": null,
   "id": "532dc922-54ba-4065-be5e-ce0841555f64",
   "metadata": {},
   "outputs": [],
   "source": [
    "import pandas as pd\n",
    "import numpy as np\n",
    "DATASETPATH = \"./data/DSL_Winter_Project_2024/DSL_Winter_Project_2024/development.csv\"\n",
    "dataset = pd.read_csv(DATASETPATH)\n",
    "\n",
    "display(dataset)"
   ]
  }
 ],
 "metadata": {
  "kernelspec": {
   "display_name": "Python 3 (ipykernel)",
   "language": "python",
   "name": "python3"
  },
  "language_info": {
   "codemirror_mode": {
    "name": "ipython",
    "version": 3
   },
   "file_extension": ".py",
   "mimetype": "text/x-python",
   "name": "python",
   "nbconvert_exporter": "python",
   "pygments_lexer": "ipython3",
   "version": "3.10.11"
  }
 },
 "nbformat": 4,
 "nbformat_minor": 5
}
