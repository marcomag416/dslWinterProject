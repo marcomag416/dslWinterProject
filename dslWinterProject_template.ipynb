{
 "cells": [
  {
   "cell_type": "code",
   "execution_count": 1,
   "id": "7466206c-8197-4536-b4af-e27e9ac5386c",
   "metadata": {},
   "outputs": [],
   "source": [
    "# MATPLOTLIB INTERACTIVE VISUALIZATION. REMOVE (OR COMMENT) IF YOU NEED TO PRINT THE NOTEBOOK AS A PDF, SOMETIMES IT DOES NOT WORK WELL...\n",
    "#%matplotlib widget\n",
    "\n",
    "import numpy as np\n",
    "import pandas as pd\n",
    "import matplotlib.pyplot as plt\n",
    "import tqdm\n",
    "\n",
    "from sklearn.linear_model import Lasso, LinearRegression, Ridge\n",
    "from sklearn.model_selection import ParameterGrid\n",
    "from sklearn.model_selection import cross_val_score, ParameterGrid\n",
    "from sklearn.metrics import make_scorer\n",
    "from sklearn.svm import SVR\n",
    "from sklearn.preprocessing import StandardScaler, MinMaxScaler\n",
    "from sklearn.multioutput import MultiOutputRegressor\n",
    "from sklearn.decomposition import PCA\n",
    "from sklearn.preprocessing import PolynomialFeatures\n",
    "from sklearn.ensemble import RandomForestRegressor\n",
    "from sklearn.neural_network import MLPRegressor\n",
    "\n",
    "# pd.options.display.max_rows = 9999\n",
    "pd.options.display.max_columns = 200\n",
    "\n",
    "#set initial random state\n",
    "rs = 328537\n",
    "np.random.seed(rs)"
   ]
  },
  {
   "cell_type": "code",
   "execution_count": null,
   "id": "ec6199df-eefb-41d7-95f0-f05e18783d67",
   "metadata": {},
   "outputs": [],
   "source": [
    "DATASETPATH = \"./data/DSL_Winter_Project_2024/DSL_Winter_Project_2024/development.csv\"\n",
    "dataset = pd.read_csv(DATASETPATH)\n",
    "\n",
    "display(dataset)"
   ]
  },
  {
   "cell_type": "code",
   "execution_count": null,
   "id": "d19f5589-a4eb-447e-b325-bce2d09644ba",
   "metadata": {},
   "outputs": [],
   "source": [
    "def generateColumnsNames(title, ignore=[]):\n",
    "    out = []\n",
    "    for i in range(0, 18):\n",
    "        if(not i in ignore):\n",
    "            out.append( title + \"[\" + str(i) + \"]\" )\n",
    "    return out"
   ]
  },
  {
   "cell_type": "code",
   "execution_count": null,
   "id": "a56b9fa4-f121-479b-bec1-a01734aed374",
   "metadata": {},
   "outputs": [],
   "source": [
    "def generateColumnsNamesFromIndexes(indexes):\n",
    "    out = []\n",
    "    for index in indexes:\n",
    "        for label in [\"pmax\", \"negpmax\", \"area\", \"tmax\", \"rms\"]:\n",
    "            out.append(label + \"[\" + str(index) + \"]\")\n",
    "    return out\n",
    "\n",
    "regressionTargets = ['x', 'y']\n",
    "noisyIndexes = [0, 7, 12, 15, 16, 17]\n",
    "noisyFeatures= generateColumnsNamesFromIndexes(noisyIndexes)\n",
    "featuresLabels = dataset.columns.drop(np.hstack([regressionTargets, noisyFeatures]))\n",
    "dataset_shuff = dataset.sample(random_state=rs, frac=1)  #shuffle the dataset\n",
    "X_df = dataset_shuff[featuresLabels]\n",
    "Y_df = dataset_shuff[regressionTargets]"
   ]
  },
  {
   "cell_type": "markdown",
   "id": "d3b8c3c7-08be-4b0a-a6cb-9a0cfd1d289f",
   "metadata": {},
   "source": [
    "## Train - Test split"
   ]
  },
  {
   "cell_type": "code",
   "execution_count": null,
   "id": "29f490ad-024d-4949-a2d6-34a1184b599c",
   "metadata": {},
   "outputs": [],
   "source": [
    "ratio = 0.2\n",
    "test_length = int(len(X_df) * 0.2)\n",
    "train_length = len(X_df) - test_length\n",
    "test_mask = np.array(test_length * [True] + train_length * [False])\n",
    "np.random.shuffle(test_mask)\n",
    "X_test = X_df.values[test_mask, :]\n",
    "Y_test = Y_df.values[test_mask, :]\n",
    "X_train = X_df.values[~test_mask, :]\n",
    "Y_train = Y_df.values[~test_mask, :]\n",
    "\n",
    "#tain-test split on a subset of features\n",
    "X_red_df = X_df[generateColumnsNames(\"area\", ignore=noisyIndexes) + generateColumnsNames(\"pmax\", ignore=noisyIndexes) + generateColumnsNames(\"negpmax\", ignore=noisyIndexes)]\n",
    "X_test_red = X_red_df.values[test_mask, :]\n",
    "X_train_red = X_red_df.values[~test_mask, :]"
   ]
  },
  {
   "cell_type": "markdown",
   "id": "c46ba872-379c-4c4c-9b28-54fb915f59ea",
   "metadata": {},
   "source": [
    "## Standardization"
   ]
  },
  {
   "cell_type": "code",
   "execution_count": null,
   "id": "f7d78b4f-1d76-409b-aa10-179c690db88d",
   "metadata": {},
   "outputs": [],
   "source": [
    "scaler=StandardScaler()\n",
    "X_train_std = scaler.fit_transform(X_train)\n",
    "X_test_std = scaler.transform(X_test)"
   ]
  },
  {
   "cell_type": "markdown",
   "id": "4b0efa14-54b0-4a5e-895f-2a2d55b7c7c6",
   "metadata": {},
   "source": [
    "## Regression"
   ]
  },
  {
   "cell_type": "code",
   "execution_count": null,
   "id": "c470d2ad-9b23-4aec-b496-e09df211419a",
   "metadata": {},
   "outputs": [],
   "source": [
    "def euc_dist(Y, Y_pred):\n",
    "    #return np.sqrt(((Y_pred - Y_test)**2).sum(axis=1)).sum(axis=0) / Y_pred.shape[0]\n",
    "    return np.sqrt(((Y - Y_pred)**2).sum(axis=1)).mean()\n",
    "\n",
    "euc_dist_scorer = make_scorer(euc_dist)"
   ]
  },
  {
   "cell_type": "markdown",
   "id": "ecbde010-3d63-4de9-92d2-c9b980f7f742",
   "metadata": {},
   "source": [
    "## Final result"
   ]
  },
  {
   "cell_type": "code",
   "execution_count": null,
   "id": "5cb20dd9-b2be-415c-8e2f-54bacbce8fbd",
   "metadata": {},
   "outputs": [],
   "source": [
    "EVALUATIONPATH = \"./data/DSL_Winter_Project_2024/DSL_Winter_Project_2024/evaluation.csv\"\n",
    "evaluation = pd.read_csv(EVALUATIONPATH, index_col=\"Id\")\n",
    "#X_ev = X_ev[generateColumnsNames(\"area\", ignore=noisyIndexes) + generateColumnsNames(\"pmax\", ignore=noisyIndexes)]\n",
    "X_ev = evaluation[featuresLabels]\n",
    "\n",
    "MLPReg.set_params(warm_start=False, verbose=True)\n",
    "finalReg = MLPReg\n",
    "\n",
    "stdScaler = StandardScaler()\n",
    "X_std = stdScaler.fit_transform(X_df.values)\n",
    "X_ev_std = stdScaler.transform(X_ev.values)\n",
    "\n",
    "finalReg.fit(X_std, Y_df.values)\n",
    "Y_ev = finalReg.predict(X_ev_std)\n"
   ]
  },
  {
   "cell_type": "code",
   "execution_count": null,
   "id": "6eb80087-a7ce-4f6b-a04f-c057cbc9a9ea",
   "metadata": {},
   "outputs": [],
   "source": [
    "MLPReg.get_params"
   ]
  },
  {
   "cell_type": "code",
   "execution_count": null,
   "id": "8f3c9ec3-c799-452d-8ca8-bfdedf474ea4",
   "metadata": {},
   "outputs": [],
   "source": [
    "output = pd.DataFrame()\n",
    "Y_ev_df = pd.DataFrame(Y_ev)\n",
    "display(Y_ev_df)\n",
    "#output['Predicted'] = (Y_ev_df[0]).round().astype(str) + \"|\" + (Y_ev_df[1]).round().astype(str)\n",
    "output['Predicted'] = (Y_ev_df[0]).astype(str) + \"|\" + (Y_ev_df[1]).astype(str)\n",
    "output.to_csv(\"submission10_MLP6.csv\", index_label=\"Id\")"
   ]
  }
 ],
 "metadata": {
  "kernelspec": {
   "display_name": "Python 3 (ipykernel)",
   "language": "python",
   "name": "python3"
  },
  "language_info": {
   "codemirror_mode": {
    "name": "ipython",
    "version": 3
   },
   "file_extension": ".py",
   "mimetype": "text/x-python",
   "name": "python",
   "nbconvert_exporter": "python",
   "pygments_lexer": "ipython3",
   "version": "3.10.11"
  }
 },
 "nbformat": 4,
 "nbformat_minor": 5
}
