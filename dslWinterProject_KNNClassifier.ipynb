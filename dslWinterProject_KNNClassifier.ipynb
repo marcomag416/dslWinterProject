{
 "cells": [
  {
   "cell_type": "code",
   "execution_count": 1,
   "id": "64d3e309-f382-4220-831a-f49296b05305",
   "metadata": {},
   "outputs": [],
   "source": [
    "# MATPLOTLIB INTERACTIVE VISUALIZATION. REMOVE (OR COMMENT) IF YOU NEED TO PRINT THE NOTEBOOK AS A PDF, SOMETIMES IT DOES NOT WORK WELL...\n",
    "#%matplotlib widget\n",
    "\n",
    "import numpy as np\n",
    "import pandas as pd\n",
    "import matplotlib.pyplot as plt\n",
    "\n",
    "from sklearn.metrics import make_scorer\n",
    "from sklearn.preprocessing import StandardScaler, MinMaxScaler\n",
    "from sklearn.multioutput import MultiOutputRegressor\n",
    "from sklearn.neighbors import KNeighborsClassifier\n",
    "from sklearn.model_selection import GridSearchCV\n",
    "\n",
    "# pd.options.display.max_rows = 9999\n",
    "pd.options.display.max_columns = 200\n",
    "\n",
    "#set initial random state\n",
    "rs = 328537\n",
    "np.random.seed(rs)"
   ]
  },
  {
   "cell_type": "code",
   "execution_count": 2,
   "id": "04f56864-f5b1-436f-8d95-2e917ff4a411",
   "metadata": {},
   "outputs": [],
   "source": [
    "DATASETPATH = \"./data/DSL_Winter_Project_2024/DSL_Winter_Project_2024/development.csv\"\n",
    "dataset = pd.read_csv(DATASETPATH)"
   ]
  },
  {
   "cell_type": "code",
   "execution_count": 3,
   "id": "9caf7a83-64ea-4f30-b65c-a64c26882567",
   "metadata": {},
   "outputs": [],
   "source": [
    "def generateColumnsNames(title, ignore=[]):\n",
    "    out = []\n",
    "    for i in range(0, 18):\n",
    "        if(not i in ignore):\n",
    "            out.append( title + \"[\" + str(i) + \"]\" )\n",
    "    return out"
   ]
  },
  {
   "cell_type": "code",
   "execution_count": 4,
   "id": "02aabb75-47f3-40c0-9089-71488b4a8643",
   "metadata": {},
   "outputs": [],
   "source": [
    "def generateColumnsNamesFromIndexes(indexes):\n",
    "    out = []\n",
    "    for index in indexes:\n",
    "        for label in [\"pmax\", \"negpmax\", \"area\", \"tmax\", \"rms\"]:\n",
    "            out.append(label + \"[\" + str(index) + \"]\")\n",
    "    return out\n",
    "\n",
    "regressionTargets = ['x', 'y']\n",
    "noisyIndexes = [0, 7, 12, 15, 16, 17]\n",
    "\n",
    "#noisyFeatures= generateColumnsNamesFromIndexes(noisyIndexes)\n",
    "#featuresLabels = dataset.columns.drop(np.hstack([regressionTargets, noisyFeatures]))\n",
    "\n",
    "featuresLabels = generateColumnsNames(\"area\", ignore=noisyIndexes) + generateColumnsNames(\"pmax\", ignore=noisyIndexes) + generateColumnsNames(\"negpmax\", ignore=noisyIndexes)\n",
    "dataset_shuff = dataset.sample(random_state=rs, frac=1)  #shuffle the dataset\n",
    "X_df = dataset_shuff[featuresLabels]\n",
    "Y_df = dataset_shuff[regressionTargets]"
   ]
  },
  {
   "cell_type": "code",
   "execution_count": 5,
   "id": "ab1487c8-9308-487c-8c66-5196072a17db",
   "metadata": {},
   "outputs": [],
   "source": [
    "stdScaler=StandardScaler()\n",
    "X_std = stdScaler.fit_transform(X_df.values)"
   ]
  },
  {
   "cell_type": "code",
   "execution_count": 6,
   "id": "afc62e7e-2ed1-4d50-b948-36676703b22b",
   "metadata": {},
   "outputs": [],
   "source": [
    "def euc_dist(Y, Y_pred):\n",
    "    #return np.sqrt(((Y_pred - Y_test)**2).sum(axis=1)).sum(axis=0) / Y_pred.shape[0]\n",
    "    return np.sqrt(((Y - Y_pred)**2).sum(axis=1)).mean()\n",
    "\n",
    "euc_dist_scorer = make_scorer(euc_dist, greater_is_better=False)"
   ]
  },
  {
   "cell_type": "code",
   "execution_count": 7,
   "id": "1de7f8b1-7614-48fb-9ce9-0aa8cda56ef0",
   "metadata": {},
   "outputs": [
    {
     "name": "stdout",
     "output_type": "stream",
     "text": [
      "Fitting 5 folds for each of 3 candidates, totalling 15 fits\n",
      "[CV 1/5] END ..n_neighbors=5, weights=distance;, score=-8.296 total time= 1.5min\n",
      "[CV 2/5] END ..n_neighbors=5, weights=distance;, score=-8.343 total time= 1.5min\n",
      "[CV 3/5] END ..n_neighbors=5, weights=distance;, score=-8.249 total time= 1.5min\n",
      "[CV 4/5] END ..n_neighbors=5, weights=distance;, score=-8.322 total time= 1.5min\n",
      "[CV 5/5] END ..n_neighbors=5, weights=distance;, score=-8.302 total time= 1.6min\n",
      "[CV 1/5] END .n_neighbors=10, weights=distance;, score=-7.891 total time= 1.6min\n",
      "[CV 2/5] END .n_neighbors=10, weights=distance;, score=-7.914 total time= 1.6min\n",
      "[CV 3/5] END .n_neighbors=10, weights=distance;, score=-7.813 total time= 1.6min\n",
      "[CV 4/5] END .n_neighbors=10, weights=distance;, score=-7.907 total time= 1.6min\n",
      "[CV 5/5] END .n_neighbors=10, weights=distance;, score=-7.876 total time= 1.6min\n",
      "[CV 1/5] END .n_neighbors=15, weights=distance;, score=-7.717 total time= 1.6min\n",
      "[CV 2/5] END .n_neighbors=15, weights=distance;, score=-7.720 total time= 1.6min\n",
      "[CV 3/5] END .n_neighbors=15, weights=distance;, score=-7.652 total time= 1.6min\n",
      "[CV 4/5] END .n_neighbors=15, weights=distance;, score=-7.728 total time= 1.7min\n",
      "[CV 5/5] END .n_neighbors=15, weights=distance;, score=-7.708 total time= 1.7min\n"
     ]
    },
    {
     "data": {
      "text/html": [
       "<style>#sk-container-id-1 {color: black;}#sk-container-id-1 pre{padding: 0;}#sk-container-id-1 div.sk-toggleable {background-color: white;}#sk-container-id-1 label.sk-toggleable__label {cursor: pointer;display: block;width: 100%;margin-bottom: 0;padding: 0.3em;box-sizing: border-box;text-align: center;}#sk-container-id-1 label.sk-toggleable__label-arrow:before {content: \"▸\";float: left;margin-right: 0.25em;color: #696969;}#sk-container-id-1 label.sk-toggleable__label-arrow:hover:before {color: black;}#sk-container-id-1 div.sk-estimator:hover label.sk-toggleable__label-arrow:before {color: black;}#sk-container-id-1 div.sk-toggleable__content {max-height: 0;max-width: 0;overflow: hidden;text-align: left;background-color: #f0f8ff;}#sk-container-id-1 div.sk-toggleable__content pre {margin: 0.2em;color: black;border-radius: 0.25em;background-color: #f0f8ff;}#sk-container-id-1 input.sk-toggleable__control:checked~div.sk-toggleable__content {max-height: 200px;max-width: 100%;overflow: auto;}#sk-container-id-1 input.sk-toggleable__control:checked~label.sk-toggleable__label-arrow:before {content: \"▾\";}#sk-container-id-1 div.sk-estimator input.sk-toggleable__control:checked~label.sk-toggleable__label {background-color: #d4ebff;}#sk-container-id-1 div.sk-label input.sk-toggleable__control:checked~label.sk-toggleable__label {background-color: #d4ebff;}#sk-container-id-1 input.sk-hidden--visually {border: 0;clip: rect(1px 1px 1px 1px);clip: rect(1px, 1px, 1px, 1px);height: 1px;margin: -1px;overflow: hidden;padding: 0;position: absolute;width: 1px;}#sk-container-id-1 div.sk-estimator {font-family: monospace;background-color: #f0f8ff;border: 1px dotted black;border-radius: 0.25em;box-sizing: border-box;margin-bottom: 0.5em;}#sk-container-id-1 div.sk-estimator:hover {background-color: #d4ebff;}#sk-container-id-1 div.sk-parallel-item::after {content: \"\";width: 100%;border-bottom: 1px solid gray;flex-grow: 1;}#sk-container-id-1 div.sk-label:hover label.sk-toggleable__label {background-color: #d4ebff;}#sk-container-id-1 div.sk-serial::before {content: \"\";position: absolute;border-left: 1px solid gray;box-sizing: border-box;top: 0;bottom: 0;left: 50%;z-index: 0;}#sk-container-id-1 div.sk-serial {display: flex;flex-direction: column;align-items: center;background-color: white;padding-right: 0.2em;padding-left: 0.2em;position: relative;}#sk-container-id-1 div.sk-item {position: relative;z-index: 1;}#sk-container-id-1 div.sk-parallel {display: flex;align-items: stretch;justify-content: center;background-color: white;position: relative;}#sk-container-id-1 div.sk-item::before, #sk-container-id-1 div.sk-parallel-item::before {content: \"\";position: absolute;border-left: 1px solid gray;box-sizing: border-box;top: 0;bottom: 0;left: 50%;z-index: -1;}#sk-container-id-1 div.sk-parallel-item {display: flex;flex-direction: column;z-index: 1;position: relative;background-color: white;}#sk-container-id-1 div.sk-parallel-item:first-child::after {align-self: flex-end;width: 50%;}#sk-container-id-1 div.sk-parallel-item:last-child::after {align-self: flex-start;width: 50%;}#sk-container-id-1 div.sk-parallel-item:only-child::after {width: 0;}#sk-container-id-1 div.sk-dashed-wrapped {border: 1px dashed gray;margin: 0 0.4em 0.5em 0.4em;box-sizing: border-box;padding-bottom: 0.4em;background-color: white;}#sk-container-id-1 div.sk-label label {font-family: monospace;font-weight: bold;display: inline-block;line-height: 1.2em;}#sk-container-id-1 div.sk-label-container {text-align: center;}#sk-container-id-1 div.sk-container {/* jupyter's `normalize.less` sets `[hidden] { display: none; }` but bootstrap.min.css set `[hidden] { display: none !important; }` so we also need the `!important` here to be able to override the default hidden behavior on the sphinx rendered scikit-learn.org. See: https://github.com/scikit-learn/scikit-learn/issues/21755 */display: inline-block !important;position: relative;}#sk-container-id-1 div.sk-text-repr-fallback {display: none;}</style><div id=\"sk-container-id-1\" class=\"sk-top-container\"><div class=\"sk-text-repr-fallback\"><pre>GridSearchCV(estimator=KNeighborsClassifier(), n_jobs=1,\n",
       "             param_grid={&#x27;n_neighbors&#x27;: [5, 10, 15], &#x27;weights&#x27;: [&#x27;distance&#x27;]},\n",
       "             scoring=make_scorer(euc_dist, greater_is_better=False), verbose=3)</pre><b>In a Jupyter environment, please rerun this cell to show the HTML representation or trust the notebook. <br />On GitHub, the HTML representation is unable to render, please try loading this page with nbviewer.org.</b></div><div class=\"sk-container\" hidden><div class=\"sk-item sk-dashed-wrapped\"><div class=\"sk-label-container\"><div class=\"sk-label sk-toggleable\"><input class=\"sk-toggleable__control sk-hidden--visually\" id=\"sk-estimator-id-1\" type=\"checkbox\" ><label for=\"sk-estimator-id-1\" class=\"sk-toggleable__label sk-toggleable__label-arrow\">GridSearchCV</label><div class=\"sk-toggleable__content\"><pre>GridSearchCV(estimator=KNeighborsClassifier(), n_jobs=1,\n",
       "             param_grid={&#x27;n_neighbors&#x27;: [5, 10, 15], &#x27;weights&#x27;: [&#x27;distance&#x27;]},\n",
       "             scoring=make_scorer(euc_dist, greater_is_better=False), verbose=3)</pre></div></div></div><div class=\"sk-parallel\"><div class=\"sk-parallel-item\"><div class=\"sk-item\"><div class=\"sk-label-container\"><div class=\"sk-label sk-toggleable\"><input class=\"sk-toggleable__control sk-hidden--visually\" id=\"sk-estimator-id-2\" type=\"checkbox\" ><label for=\"sk-estimator-id-2\" class=\"sk-toggleable__label sk-toggleable__label-arrow\">estimator: KNeighborsClassifier</label><div class=\"sk-toggleable__content\"><pre>KNeighborsClassifier()</pre></div></div></div><div class=\"sk-serial\"><div class=\"sk-item\"><div class=\"sk-estimator sk-toggleable\"><input class=\"sk-toggleable__control sk-hidden--visually\" id=\"sk-estimator-id-3\" type=\"checkbox\" ><label for=\"sk-estimator-id-3\" class=\"sk-toggleable__label sk-toggleable__label-arrow\">KNeighborsClassifier</label><div class=\"sk-toggleable__content\"><pre>KNeighborsClassifier()</pre></div></div></div></div></div></div></div></div></div></div>"
      ],
      "text/plain": [
       "GridSearchCV(estimator=KNeighborsClassifier(), n_jobs=1,\n",
       "             param_grid={'n_neighbors': [5, 10, 15], 'weights': ['distance']},\n",
       "             scoring=make_scorer(euc_dist, greater_is_better=False), verbose=3)"
      ]
     },
     "execution_count": 7,
     "metadata": {},
     "output_type": "execute_result"
    }
   ],
   "source": [
    "reg = KNeighborsClassifier()\n",
    "params = {\n",
    "    \"weights\": [\"distance\"],\n",
    "    \"n_neighbors\" : [5, 10, 15]\n",
    "}\n",
    "grid_search = GridSearchCV(reg, param_grid=params, scoring=euc_dist_scorer, verbose=3, n_jobs=1)\n",
    "grid_search.fit(X_std, Y_df.values)\n",
    "\n"
   ]
  },
  {
   "cell_type": "code",
   "execution_count": 8,
   "id": "881f7c68-c529-4076-9045-0be9763918d7",
   "metadata": {},
   "outputs": [
    {
     "data": {
      "text/plain": [
       "{'n_neighbors': 15, 'weights': 'distance'}"
      ]
     },
     "execution_count": 8,
     "metadata": {},
     "output_type": "execute_result"
    }
   ],
   "source": [
    "grid_search.best_params_"
   ]
  },
  {
   "cell_type": "code",
   "execution_count": 9,
   "id": "fef62ee9-9878-48cb-95d3-e0ed582e36d0",
   "metadata": {},
   "outputs": [
    {
     "data": {
      "text/plain": [
       "7.704793727742941"
      ]
     },
     "execution_count": 9,
     "metadata": {},
     "output_type": "execute_result"
    }
   ],
   "source": [
    "-grid_search.best_score_"
   ]
  },
  {
   "cell_type": "code",
   "execution_count": 10,
   "id": "2a196a11-e72c-46fa-919c-bbe2a86bb27a",
   "metadata": {},
   "outputs": [
    {
     "ename": "NameError",
     "evalue": "name 'weights' is not defined",
     "output_type": "error",
     "traceback": [
      "\u001b[1;31m---------------------------------------------------------------------------\u001b[0m",
      "\u001b[1;31mNameError\u001b[0m                                 Traceback (most recent call last)",
      "Cell \u001b[1;32mIn[10], line 6\u001b[0m\n\u001b[0;32m      3\u001b[0m     seen_add \u001b[38;5;241m=\u001b[39m seen\u001b[38;5;241m.\u001b[39madd\n\u001b[0;32m      4\u001b[0m     \u001b[38;5;28;01mreturn\u001b[39;00m [x \u001b[38;5;28;01mfor\u001b[39;00m x \u001b[38;5;129;01min\u001b[39;00m seq \u001b[38;5;28;01mif\u001b[39;00m \u001b[38;5;129;01mnot\u001b[39;00m (x \u001b[38;5;129;01min\u001b[39;00m seen \u001b[38;5;129;01mor\u001b[39;00m seen_add(x))]\n\u001b[1;32m----> 6\u001b[0m k \u001b[38;5;241m=\u001b[39m grid_search\u001b[38;5;241m.\u001b[39mcv_results_[\u001b[38;5;124m\"\u001b[39m\u001b[38;5;124mparam_n_neighbors\u001b[39m\u001b[38;5;124m\"\u001b[39m]\u001b[38;5;241m.\u001b[39mreshape(\u001b[38;5;241m-\u001b[39m\u001b[38;5;241m1\u001b[39m, \u001b[38;5;28mlen\u001b[39m(\u001b[43mweights\u001b[49m))\n\u001b[0;32m      7\u001b[0m weights \u001b[38;5;241m=\u001b[39m unique(grid_search\u001b[38;5;241m.\u001b[39mcv_results_[\u001b[38;5;124m\"\u001b[39m\u001b[38;5;124mparam_weights\u001b[39m\u001b[38;5;124m\"\u001b[39m])\n\u001b[0;32m      8\u001b[0m scores \u001b[38;5;241m=\u001b[39m \u001b[38;5;241m-\u001b[39mgrid_search\u001b[38;5;241m.\u001b[39mcv_results_[\u001b[38;5;124m\"\u001b[39m\u001b[38;5;124mmean_test_score\u001b[39m\u001b[38;5;124m\"\u001b[39m]\u001b[38;5;241m.\u001b[39mreshape(\u001b[38;5;241m-\u001b[39m\u001b[38;5;241m1\u001b[39m, \u001b[38;5;28mlen\u001b[39m(weights))\n",
      "\u001b[1;31mNameError\u001b[0m: name 'weights' is not defined"
     ]
    }
   ],
   "source": [
    "def unique(seq):\n",
    "    seen = set()\n",
    "    seen_add = seen.add\n",
    "    return [x for x in seq if not (x in seen or seen_add(x))]\n",
    "\n",
    "k = grid_search.cv_results_[\"param_n_neighbors\"].reshape(-1, len(weights))\n",
    "weights = unique(grid_search.cv_results_[\"param_weights\"])\n",
    "scores = -grid_search.cv_results_[\"mean_test_score\"].reshape(-1, len(weights))\n",
    "plt.figure(figsize=(6,4))\n",
    "for i, marker in zip(range(scores.shape[0]), ['o', '^']):\n",
    "    plt.plot(scores[:, i], marker=marker)\n",
    "plt.xticks(range(0, scores.shape[0]), k[:, 0], rotation=45, fontsize=12)\n",
    "plt.yticks(fontsize=12)\n",
    "plt.xlabel(\"K\", fontsize=14)\n",
    "plt.ylabel(\"Mean Euclidean distance\", fontsize=14)\n",
    "legend = plt.legend(weights, title=\"Weights\", fontsize=12)\n",
    "plt.setp(legend.get_title(),fontsize=14)\n",
    "plt.tight_layout()\n",
    "plt.savefig(\"KNN_grid_search_results1\", format=\"pdf\")"
   ]
  },
  {
   "cell_type": "code",
   "execution_count": null,
   "id": "62c0f19e-0176-4fc1-8786-5335a2d1c02d",
   "metadata": {},
   "outputs": [],
   "source": [
    "scores = -grid_search.cv_results_[\"mean_test_score\"]\n",
    "k = grid_search.cv_results_[\"param_n_neighbors\"]\n",
    "plt.figure()\n",
    "plt.plot(scores, '-o')\n",
    "plt.xticks(range(0, len(k)), k)\n",
    "plt.xlabel(\"K\")\n",
    "plt.ylabel(\"Mean Euclidean distance\")\n"
   ]
  },
  {
   "cell_type": "code",
   "execution_count": null,
   "id": "4f97926f-a0b1-45be-93f5-5a7df22f069d",
   "metadata": {},
   "outputs": [],
   "source": [
    "EVALUATIONPATH = \"./data/DSL_Winter_Project_2024/DSL_Winter_Project_2024/evaluation.csv\"\n",
    "evaluation = pd.read_csv(EVALUATIONPATH, index_col=\"Id\")\n",
    "#X_ev = X_ev[generateColumnsNames(\"area\", ignore=noisyIndexes) + generateColumnsNames(\"pmax\", ignore=noisyIndexes)]\n",
    "X_ev = evaluation[featuresLabels]\n",
    "\n",
    "X_ev_std = stdScaler.transform(X_ev.values)\n",
    "\n",
    "Y_ev = grid_search.predict(X_ev_std)\n"
   ]
  },
  {
   "cell_type": "code",
   "execution_count": null,
   "id": "2efb502d-9e13-4258-ac02-0f75f911c44e",
   "metadata": {},
   "outputs": [],
   "source": [
    "output = pd.DataFrame()\n",
    "Y_ev_df = pd.DataFrame(Y_ev)\n",
    "display(Y_ev_df)\n",
    "#output['Predicted'] = (Y_ev_df[0]).round().astype(str) + \"|\" + (Y_ev_df[1]).round().astype(str)\n",
    "output['Predicted'] = (Y_ev_df[0]).astype(str) + \"|\" + (Y_ev_df[1]).astype(str)\n",
    "output.to_csv(\"submission14_KK1.csv\", index_label=\"Id\")"
   ]
  },
  {
   "cell_type": "code",
   "execution_count": null,
   "id": "cf4d08e4-6835-48c8-ad5b-129dbb0a1acd",
   "metadata": {},
   "outputs": [],
   "source": []
  }
 ],
 "metadata": {
  "kernelspec": {
   "display_name": "Python 3 (ipykernel)",
   "language": "python",
   "name": "python3"
  },
  "language_info": {
   "codemirror_mode": {
    "name": "ipython",
    "version": 3
   },
   "file_extension": ".py",
   "mimetype": "text/x-python",
   "name": "python",
   "nbconvert_exporter": "python",
   "pygments_lexer": "ipython3",
   "version": "3.10.11"
  }
 },
 "nbformat": 4,
 "nbformat_minor": 5
}
